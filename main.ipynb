{
 "cells": [
  {
   "cell_type": "code",
   "execution_count": 7,
   "metadata": {
    "colab": {
     "base_uri": "https://localhost:8080/",
     "height": 374
    },
    "colab_type": "code",
    "executionInfo": {
     "elapsed": 243,
     "status": "error",
     "timestamp": 1597456083694,
     "user": {
      "displayName": "Ananya Jegannathan",
      "photoUrl": "",
      "userId": "13919056905977548823"
     },
     "user_tz": 300
    },
    "id": "DtievcSmq9Vj",
    "outputId": "6d00d1c0-2786-439b-f971-4c1d8fde8bbb",
    "scrolled": true
   },
   "outputs": [
    {
     "ename": "ModuleNotFoundError",
     "evalue": "No module named 'dataprocessing'",
     "output_type": "error",
     "traceback": [
      "\u001b[1;31m---------------------------------------------------------------------------\u001b[0m",
      "\u001b[1;31mModuleNotFoundError\u001b[0m                       Traceback (most recent call last)",
      "\u001b[1;32m<ipython-input-7-5c3c49c63b36>\u001b[0m in \u001b[0;36m<module>\u001b[1;34m\u001b[0m\n\u001b[1;32m----> 1\u001b[1;33m \u001b[1;32mfrom\u001b[0m \u001b[0mdataprocessing\u001b[0m \u001b[1;32mimport\u001b[0m \u001b[0mReadData\u001b[0m\u001b[1;33m,\u001b[0m \u001b[0mVisualizeData\u001b[0m\u001b[1;33m\u001b[0m\u001b[1;33m\u001b[0m\u001b[0m\n\u001b[0m\u001b[0;32m      2\u001b[0m \u001b[1;32mfrom\u001b[0m \u001b[0malgorithms\u001b[0m \u001b[1;32mimport\u001b[0m \u001b[0mAlgorithms\u001b[0m\u001b[1;33m\u001b[0m\u001b[1;33m\u001b[0m\u001b[0m\n\u001b[0;32m      3\u001b[0m \u001b[1;32mfrom\u001b[0m \u001b[0mrecommender\u001b[0m \u001b[1;32mimport\u001b[0m \u001b[0mrecommend_n_books\u001b[0m\u001b[1;33m,\u001b[0m \u001b[0mUsingNorm\u001b[0m\u001b[1;33m,\u001b[0m \u001b[0mUsingKMeans\u001b[0m\u001b[1;33m\u001b[0m\u001b[1;33m\u001b[0m\u001b[0m\n\u001b[0;32m      4\u001b[0m \u001b[1;32mfrom\u001b[0m \u001b[0mevaluate\u001b[0m \u001b[1;32mimport\u001b[0m \u001b[0mEvaluate\u001b[0m\u001b[1;33m\u001b[0m\u001b[1;33m\u001b[0m\u001b[0m\n\u001b[0;32m      5\u001b[0m \u001b[1;33m\u001b[0m\u001b[0m\n",
      "\u001b[1;31mModuleNotFoundError\u001b[0m: No module named 'dataprocessing'"
     ]
    }
   ],
   "source": [
    "from dataprocessing import ReadData, VisualizeData\n",
    "from algorithms import Algorithms\n",
    "from recommender import recommend_n_books, UsingNorm, UsingKMeans\n",
    "from evaluate import Evaluate \n",
    "\n",
    "import numpy as np\n",
    "import pandas as pd\n",
    "from fancyimpute import SoftImpute, BiScaler\n",
    "import matplotlib.pyplot as plt\n",
    "import time\n",
    "\n",
    "def main():\n",
    "  # Load the user-book ratings\n",
    "  rd = ReadData(500000, 1000, 100)\n",
    "  (sparse_ratings, books_used, deleted_users) = rd.load_ratings_data()\n",
    "\n",
    "  # Obtain the filled matrix using iterative singular value thresholding\n",
    "  a = Algorithms()\n",
    "  (ratings_with_nan, filled_ratings) = isvt(sparse_ratings)"
   ]
  },
  {
   "cell_type": "code",
   "execution_count": null,
   "metadata": {
    "colab": {},
    "colab_type": "code",
    "id": "Mx8EksGuwzYE"
   },
   "outputs": [],
   "source": []
  },
  {
   "cell_type": "code",
   "execution_count": null,
   "metadata": {},
   "outputs": [],
   "source": []
  }
 ],
 "metadata": {
  "colab": {
   "authorship_tag": "ABX9TyMLxNcpvtFYg/S5Sxz/r2i2",
   "collapsed_sections": [],
   "mount_file_id": "1yfJkFRCakkrTotEYtt-qKKbc9BV6H7so",
   "name": "main.ipynb",
   "provenance": []
  },
  "kernelspec": {
   "display_name": "Python 3",
   "language": "python",
   "name": "python3"
  },
  "language_info": {
   "codemirror_mode": {
    "name": "ipython",
    "version": 3
   },
   "file_extension": ".py",
   "mimetype": "text/x-python",
   "name": "python",
   "nbconvert_exporter": "python",
   "pygments_lexer": "ipython3",
   "version": "3.7.7"
  }
 },
 "nbformat": 4,
 "nbformat_minor": 1
}
